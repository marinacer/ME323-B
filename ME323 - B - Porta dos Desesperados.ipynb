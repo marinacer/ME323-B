{
 "cells": [
  {
   "cell_type": "code",
   "execution_count": 25,
   "metadata": {},
   "outputs": [],
   "source": [
    "#Marina Cerqueira 183916\n",
    "#Gustavo Akira Borges 174007\n",
    "#Wesley Cordeiro Cavalcante 188641\n",
    "#Mantem a mesma porta\n",
    "#A porta correta é a segunda"
   ]
  },
  {
   "cell_type": "code",
   "execution_count": 26,
   "metadata": {},
   "outputs": [],
   "source": [
    "import random\n",
    "from pylab import plot,xlabel,ylabel,show"
   ]
  },
  {
   "cell_type": "code",
   "execution_count": 27,
   "metadata": {},
   "outputs": [],
   "source": [
    "n_teste = 0 #nº de vezes testadas\n",
    "sucesso = 0 #nº de sucessos\n",
    "\n",
    "x = [] #informação p/ o gráfico\n",
    "y = []"
   ]
  },
  {
   "cell_type": "code",
   "execution_count": 28,
   "metadata": {},
   "outputs": [],
   "source": [
    "for a in range(1,10000):\n",
    "    x.append(a)\n",
    "    escolha = random.choice([1,2,3]) #escolhe aletoriamente entre 1, 2 ou 3\n",
    "    n_teste = n_teste + 1\n",
    "    if escolha == 2:\n",
    "        sucesso = sucesso + 1\n",
    "        y.append(sucesso/n_teste)\n",
    "    \n",
    "    else:\n",
    "        y.append(sucesso/n_teste)"
   ]
  },
  {
   "cell_type": "code",
   "execution_count": 29,
   "metadata": {},
   "outputs": [
    {
     "data": {
      "image/png": "[encoded data removed]",
      "text/plain": [
       "<Figure size 432x288 with 1 Axes>"
      ]
     },
     "metadata": {
      "needs_background": "light"
     },
     "output_type": "display_data"
    }
   ],
   "source": [
    "plot(x,y)\n",
    "xlabel(\"nº tentativas\")\n",
    "ylabel(\"acertos\")\n",
    "show()"
   ]
  },
  {
   "cell_type": "code",
   "execution_count": 30,
   "metadata": {},
   "outputs": [],
   "source": [
    "#Troca a porta\n",
    "#A porta correta é a segunda"
   ]
  },
  {
   "cell_type": "code",
   "execution_count": 31,
   "metadata": {},
   "outputs": [],
   "source": [
    "import random\n",
    "from pylab import plot,xlabel,ylabel,show"
   ]
  },
  {
   "cell_type": "code",
   "execution_count": 32,
   "metadata": {},
   "outputs": [],
   "source": [
    "n_teste = 0 #nº de vezes testadas\n",
    "sucesso = 0 #nº de sucessos\n",
    "x = [] #informação p/ o gráfico\n",
    "y = []"
   ]
  },
  {
   "cell_type": "code",
   "execution_count": 33,
   "metadata": {},
   "outputs": [],
   "source": [
    "for a in range(1,10000):\n",
    "    escolha = random.choice([1,2,3]) #escolhe aletoriamente entre 1, 2 ou 3\n",
    "    x.append(a)\n",
    "    n_teste = n_teste + 1\n",
    "    if escolha == 2:\n",
    "        sucesso = sucesso + 1\n",
    "        y.append(sucesso/n_teste)\n",
    "    else:\n",
    "        if escolha == 1:\n",
    "            escolha = random.choice([2,3])\n",
    "            if escolha == 2:\n",
    "                sucesso = sucesso + 1\n",
    "                y.append(sucesso/n_teste)\n",
    "            else:\n",
    "                y.append(sucesso/n_teste)\n",
    "        else:\n",
    "            escolha = random.choice([1,2])\n",
    "            if escolha == 2:\n",
    "                sucesso = sucesso + 1\n",
    "                y.append(sucesso/n_teste)\n",
    "            else:\n",
    "                y.append(sucesso/n_teste)"
   ]
  },
  {
   "cell_type": "code",
   "execution_count": 34,
   "metadata": {},
   "outputs": [
    {
     "data": {
      "image/png": "[encoded data removed]",
      "text/plain": [
       "<Figure size 432x288 with 1 Axes>"
      ]
     },
     "metadata": {
      "needs_background": "light"
     },
     "output_type": "display_data"
    }
   ],
   "source": [
    "plot(x,y)\n",
    "xlabel(\"nº tentativas\")\n",
    "ylabel(\"acertos\")\n",
    "show()"
   ]
  }
 ],
 "metadata": {
  "kernelspec": {
   "display_name": "Python 3",
   "language": "python",
   "name": "python3"
  },
  "language_info": {
   "codemirror_mode": {
    "name": "ipython",
    "version": 3
   },
   "file_extension": ".py",
   "mimetype": "text/x-python",
   "name": "python",
   "nbconvert_exporter": "python",
   "pygments_lexer": "ipython3",
   "version": "3.6.7"
  }
 },
 "nbformat": 4,
 "nbformat_minor": 2
}
